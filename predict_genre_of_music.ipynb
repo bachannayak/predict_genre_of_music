{
  "nbformat": 4,
  "nbformat_minor": 0,
  "metadata": {
    "colab": {
      "name": "predict_genre_of_music.ipynb",
      "provenance": [],
      "collapsed_sections": []
    },
    "kernelspec": {
      "name": "python3",
      "display_name": "Python 3"
    },
    "language_info": {
      "name": "python"
    }
  },
  "cells": [
    {
      "cell_type": "markdown",
      "metadata": {
        "id": "w-59e1VJvbA6"
      },
      "source": [
        "#Load required Library and module"
      ]
    },
    {
      "cell_type": "code",
      "metadata": {
        "id": "7AkadFUduiKP"
      },
      "source": [
        "import pandas as pd\n",
        "import numpy as np\n",
        "import warnings\n",
        "warnings.filterwarnings('ignore')"
      ],
      "execution_count": 59,
      "outputs": []
    },
    {
      "cell_type": "markdown",
      "metadata": {
        "id": "Ykew1Ig90Tmk"
      },
      "source": [
        "#Load dataset"
      ]
    },
    {
      "cell_type": "code",
      "source": [
        "sample=pd.read_csv('sample_submission.csv')\n",
        "sample.head()"
      ],
      "metadata": {
        "colab": {
          "base_uri": "https://localhost:8080/",
          "height": 206
        },
        "id": "3eBtAbCkiMID",
        "outputId": "fe487beb-e1c8-4c22-96f6-a761cbcf9d4c"
      },
      "execution_count": 60,
      "outputs": [
        {
          "output_type": "execute_result",
          "data": {
            "text/html": [
              "<div>\n",
              "<style scoped>\n",
              "    .dataframe tbody tr th:only-of-type {\n",
              "        vertical-align: middle;\n",
              "    }\n",
              "\n",
              "    .dataframe tbody tr th {\n",
              "        vertical-align: top;\n",
              "    }\n",
              "\n",
              "    .dataframe thead th {\n",
              "        text-align: right;\n",
              "    }\n",
              "</style>\n",
              "<table border=\"1\" class=\"dataframe\">\n",
              "  <thead>\n",
              "    <tr style=\"text-align: right;\">\n",
              "      <th></th>\n",
              "      <th>instance_id</th>\n",
              "      <th>music_genre</th>\n",
              "    </tr>\n",
              "  </thead>\n",
              "  <tbody>\n",
              "    <tr>\n",
              "      <th>0</th>\n",
              "      <td>MSC_83537.0</td>\n",
              "      <td>Jazz</td>\n",
              "    </tr>\n",
              "    <tr>\n",
              "      <th>1</th>\n",
              "      <td>MSC_22044.0</td>\n",
              "      <td>Jazz</td>\n",
              "    </tr>\n",
              "    <tr>\n",
              "      <th>2</th>\n",
              "      <td>MSC_62017.0</td>\n",
              "      <td>Rap</td>\n",
              "    </tr>\n",
              "    <tr>\n",
              "      <th>3</th>\n",
              "      <td>MSC_76365.0</td>\n",
              "      <td>Rock</td>\n",
              "    </tr>\n",
              "    <tr>\n",
              "      <th>4</th>\n",
              "      <td>MSC_71493.0</td>\n",
              "      <td>Classical</td>\n",
              "    </tr>\n",
              "  </tbody>\n",
              "</table>\n",
              "</div>"
            ],
            "text/plain": [
              "   instance_id music_genre\n",
              "0  MSC_83537.0        Jazz\n",
              "1  MSC_22044.0        Jazz\n",
              "2  MSC_62017.0         Rap\n",
              "3  MSC_76365.0        Rock\n",
              "4  MSC_71493.0   Classical"
            ]
          },
          "metadata": {},
          "execution_count": 60
        }
      ]
    },
    {
      "cell_type": "code",
      "metadata": {
        "colab": {
          "base_uri": "https://localhost:8080/",
          "height": 365
        },
        "id": "qxmsNUus0bMR",
        "outputId": "d6ab4ae3-a24f-4e7b-edd5-57f2b1ec4287"
      },
      "source": [
        "Train_df=pd.read_csv('train.csv')\n",
        "Test_df=pd.read_csv('test.csv')\n",
        "Train_df.head()"
      ],
      "execution_count": 61,
      "outputs": [
        {
          "output_type": "execute_result",
          "data": {
            "text/html": [
              "<div>\n",
              "<style scoped>\n",
              "    .dataframe tbody tr th:only-of-type {\n",
              "        vertical-align: middle;\n",
              "    }\n",
              "\n",
              "    .dataframe tbody tr th {\n",
              "        vertical-align: top;\n",
              "    }\n",
              "\n",
              "    .dataframe thead th {\n",
              "        text-align: right;\n",
              "    }\n",
              "</style>\n",
              "<table border=\"1\" class=\"dataframe\">\n",
              "  <thead>\n",
              "    <tr style=\"text-align: right;\">\n",
              "      <th></th>\n",
              "      <th>instance_id</th>\n",
              "      <th>track_name</th>\n",
              "      <th>popularity</th>\n",
              "      <th>acousticness</th>\n",
              "      <th>danceability</th>\n",
              "      <th>duration_ms</th>\n",
              "      <th>energy</th>\n",
              "      <th>instrumentalness</th>\n",
              "      <th>key</th>\n",
              "      <th>liveness</th>\n",
              "      <th>loudness</th>\n",
              "      <th>voice_gender</th>\n",
              "      <th>mode</th>\n",
              "      <th>speechiness</th>\n",
              "      <th>tempo</th>\n",
              "      <th>musician_category</th>\n",
              "      <th>valence</th>\n",
              "      <th>music_genre</th>\n",
              "    </tr>\n",
              "  </thead>\n",
              "  <tbody>\n",
              "    <tr>\n",
              "      <th>0</th>\n",
              "      <td>MSC_83537.0</td>\n",
              "      <td>Estrellitas y Duendes</td>\n",
              "      <td>49.178</td>\n",
              "      <td>0.970522</td>\n",
              "      <td>0.580508</td>\n",
              "      <td>214625.776</td>\n",
              "      <td>0.192107</td>\n",
              "      <td>0.000000</td>\n",
              "      <td>Scale E</td>\n",
              "      <td>0.147134</td>\n",
              "      <td>-14.140</td>\n",
              "      <td>NaN</td>\n",
              "      <td>Major</td>\n",
              "      <td>0.046404</td>\n",
              "      <td>143.78799999999998</td>\n",
              "      <td>Band</td>\n",
              "      <td>0.598965</td>\n",
              "      <td>Jazz</td>\n",
              "    </tr>\n",
              "    <tr>\n",
              "      <th>1</th>\n",
              "      <td>MSC_22044.0</td>\n",
              "      <td>Al Norte</td>\n",
              "      <td>59.827</td>\n",
              "      <td>1.009380</td>\n",
              "      <td>0.687542</td>\n",
              "      <td>216232.195</td>\n",
              "      <td>0.265942</td>\n",
              "      <td>0.000031</td>\n",
              "      <td>Scale A</td>\n",
              "      <td>0.174655</td>\n",
              "      <td>-13.716</td>\n",
              "      <td>Male</td>\n",
              "      <td>?</td>\n",
              "      <td>0.039949</td>\n",
              "      <td>?</td>\n",
              "      <td>Band</td>\n",
              "      <td>0.357194</td>\n",
              "      <td>Jazz</td>\n",
              "    </tr>\n",
              "    <tr>\n",
              "      <th>2</th>\n",
              "      <td>MSC_62017.0</td>\n",
              "      <td>Yeah! (feat. Lil Jon &amp; Ludacris)</td>\n",
              "      <td>89.023</td>\n",
              "      <td>0.020041</td>\n",
              "      <td>0.967948</td>\n",
              "      <td>273314.723</td>\n",
              "      <td>0.857411</td>\n",
              "      <td>0.000000</td>\n",
              "      <td>Scale D</td>\n",
              "      <td>0.042030</td>\n",
              "      <td>-4.995</td>\n",
              "      <td>Female</td>\n",
              "      <td>Major</td>\n",
              "      <td>0.119917</td>\n",
              "      <td>105.01799999999999</td>\n",
              "      <td>Band</td>\n",
              "      <td>0.635525</td>\n",
              "      <td>Rap</td>\n",
              "    </tr>\n",
              "    <tr>\n",
              "      <th>3</th>\n",
              "      <td>MSC_76365.0</td>\n",
              "      <td>Can’t You See</td>\n",
              "      <td>55.762</td>\n",
              "      <td>0.010284</td>\n",
              "      <td>0.616287</td>\n",
              "      <td>189189.605</td>\n",
              "      <td>0.970513</td>\n",
              "      <td>0.000220</td>\n",
              "      <td>Scale D</td>\n",
              "      <td>0.124637</td>\n",
              "      <td>-4.262</td>\n",
              "      <td>Both</td>\n",
              "      <td>Major</td>\n",
              "      <td>0.167493</td>\n",
              "      <td>?</td>\n",
              "      <td>Duet</td>\n",
              "      <td>0.983750</td>\n",
              "      <td>Rock</td>\n",
              "    </tr>\n",
              "    <tr>\n",
              "      <th>4</th>\n",
              "      <td>MSC_71493.0</td>\n",
              "      <td>Sonata III (G Moll), BWV 1029: Adagio</td>\n",
              "      <td>45.095</td>\n",
              "      <td>0.858769</td>\n",
              "      <td>0.280645</td>\n",
              "      <td>410136.987</td>\n",
              "      <td>0.114732</td>\n",
              "      <td>0.002753</td>\n",
              "      <td>Scale F Sharp</td>\n",
              "      <td>0.134782</td>\n",
              "      <td>-26.922</td>\n",
              "      <td>Female</td>\n",
              "      <td>Minor</td>\n",
              "      <td>0.039139</td>\n",
              "      <td>112.18299999999999</td>\n",
              "      <td>Band</td>\n",
              "      <td>0.074412</td>\n",
              "      <td>Classical</td>\n",
              "    </tr>\n",
              "  </tbody>\n",
              "</table>\n",
              "</div>"
            ],
            "text/plain": [
              "   instance_id                             track_name  ...   valence  music_genre\n",
              "0  MSC_83537.0                  Estrellitas y Duendes  ...  0.598965         Jazz\n",
              "1  MSC_22044.0                               Al Norte  ...  0.357194         Jazz\n",
              "2  MSC_62017.0       Yeah! (feat. Lil Jon & Ludacris)  ...  0.635525          Rap\n",
              "3  MSC_76365.0                          Can’t You See  ...  0.983750         Rock\n",
              "4  MSC_71493.0  Sonata III (G Moll), BWV 1029: Adagio  ...  0.074412    Classical\n",
              "\n",
              "[5 rows x 18 columns]"
            ]
          },
          "metadata": {},
          "execution_count": 61
        }
      ]
    },
    {
      "cell_type": "code",
      "metadata": {
        "colab": {
          "base_uri": "https://localhost:8080/"
        },
        "id": "My9FWL1z1X9b",
        "outputId": "4ac64610-e149-4406-a916-1057ee49286b"
      },
      "source": [
        "Train_df.info()"
      ],
      "execution_count": 62,
      "outputs": [
        {
          "output_type": "stream",
          "name": "stdout",
          "text": [
            "<class 'pandas.core.frame.DataFrame'>\n",
            "RangeIndex: 15681 entries, 0 to 15680\n",
            "Data columns (total 18 columns):\n",
            " #   Column             Non-Null Count  Dtype  \n",
            "---  ------             --------------  -----  \n",
            " 0   instance_id        15681 non-null  object \n",
            " 1   track_name         15681 non-null  object \n",
            " 2   popularity         15039 non-null  float64\n",
            " 3   acousticness       15681 non-null  float64\n",
            " 4   danceability       15125 non-null  float64\n",
            " 5   duration_ms        15587 non-null  float64\n",
            " 6   energy             15587 non-null  float64\n",
            " 7   instrumentalness   15586 non-null  float64\n",
            " 8   key                15681 non-null  object \n",
            " 9   liveness           15681 non-null  float64\n",
            " 10  loudness           15645 non-null  float64\n",
            " 11  voice_gender       14916 non-null  object \n",
            " 12  mode               15646 non-null  object \n",
            " 13  speechiness        15655 non-null  float64\n",
            " 14  tempo              15681 non-null  object \n",
            " 15  musician_category  14321 non-null  object \n",
            " 16  valence            15004 non-null  float64\n",
            " 17  music_genre        15681 non-null  object \n",
            "dtypes: float64(10), object(8)\n",
            "memory usage: 2.2+ MB\n"
          ]
        }
      ]
    },
    {
      "cell_type": "markdown",
      "metadata": {
        "id": "KJP0dOMNDmSE"
      },
      "source": [
        "#Dataset cleaning for Train set"
      ]
    },
    {
      "cell_type": "code",
      "metadata": {
        "id": "M3LKlj8KAUZg"
      },
      "source": [
        "Train_df.drop(columns=['instance_id','track_name'],axis=1,inplace=True)\n"
      ],
      "execution_count": 63,
      "outputs": []
    },
    {
      "cell_type": "code",
      "metadata": {
        "colab": {
          "base_uri": "https://localhost:8080/"
        },
        "id": "NtwWqJRTC3qv",
        "outputId": "49c8ef54-ddaa-4db0-90e8-bc289519c36e"
      },
      "source": [
        "Train_df.isnull().sum()"
      ],
      "execution_count": 64,
      "outputs": [
        {
          "output_type": "execute_result",
          "data": {
            "text/plain": [
              "popularity            642\n",
              "acousticness            0\n",
              "danceability          556\n",
              "duration_ms            94\n",
              "energy                 94\n",
              "instrumentalness       95\n",
              "key                     0\n",
              "liveness                0\n",
              "loudness               36\n",
              "voice_gender          765\n",
              "mode                   35\n",
              "speechiness            26\n",
              "tempo                   0\n",
              "musician_category    1360\n",
              "valence               677\n",
              "music_genre             0\n",
              "dtype: int64"
            ]
          },
          "metadata": {},
          "execution_count": 64
        }
      ]
    },
    {
      "cell_type": "code",
      "source": [
        "Train_df['key'].unique()"
      ],
      "metadata": {
        "colab": {
          "base_uri": "https://localhost:8080/"
        },
        "id": "_anGkhL1rkn7",
        "outputId": "f81797e4-dbcd-4d58-95ea-ee58f767020a"
      },
      "execution_count": 65,
      "outputs": [
        {
          "output_type": "execute_result",
          "data": {
            "text/plain": [
              "array(['Scale E', 'Scale A', 'Scale D', 'Scale F Sharp', 'Scale G Sharp',\n",
              "       'Scale C Sharp', 'Scale A Sharp', 'Scale F', 'Scale G', 'Scale B',\n",
              "       'Scale C', 'Scale D Sharp'], dtype=object)"
            ]
          },
          "metadata": {},
          "execution_count": 65
        }
      ]
    },
    {
      "cell_type": "code",
      "source": [
        "Train_df['voice_gender'].unique()"
      ],
      "metadata": {
        "colab": {
          "base_uri": "https://localhost:8080/"
        },
        "id": "wH6VMqcglM4b",
        "outputId": "1412f6fa-f3e3-4edb-b9bc-41d81a19932e"
      },
      "execution_count": 66,
      "outputs": [
        {
          "output_type": "execute_result",
          "data": {
            "text/plain": [
              "array([nan, 'Male', 'Female', 'Both'], dtype=object)"
            ]
          },
          "metadata": {},
          "execution_count": 66
        }
      ]
    },
    {
      "cell_type": "code",
      "source": [
        "Train_df['voice_gender'].replace({'Male':1,'Female':0,'Both':2,np.NaN:3},inplace=True)"
      ],
      "metadata": {
        "id": "n6QZlz9PlIWv"
      },
      "execution_count": 67,
      "outputs": []
    },
    {
      "cell_type": "code",
      "source": [
        "Train_df['voice_gender'].unique()"
      ],
      "metadata": {
        "colab": {
          "base_uri": "https://localhost:8080/"
        },
        "id": "h6EVrxrel0FK",
        "outputId": "ba753941-0f9a-4a71-c4ff-6369c95b293e"
      },
      "execution_count": 68,
      "outputs": [
        {
          "output_type": "execute_result",
          "data": {
            "text/plain": [
              "array([3, 1, 0, 2])"
            ]
          },
          "metadata": {},
          "execution_count": 68
        }
      ]
    },
    {
      "cell_type": "code",
      "source": [
        "Train_df['mode'].unique()"
      ],
      "metadata": {
        "colab": {
          "base_uri": "https://localhost:8080/"
        },
        "id": "JXVKqu49ms4L",
        "outputId": "2738d2e4-1c5c-4eae-8974-e7933c03f2d2"
      },
      "execution_count": 69,
      "outputs": [
        {
          "output_type": "execute_result",
          "data": {
            "text/plain": [
              "array(['Major', '?', 'Minor', nan], dtype=object)"
            ]
          },
          "metadata": {},
          "execution_count": 69
        }
      ]
    },
    {
      "cell_type": "code",
      "source": [
        "Train_df['mode'].replace({'Major':1,'Minor':0,'?':2,np.NaN:3},inplace=True)"
      ],
      "metadata": {
        "id": "e3FRDWf1m3zS"
      },
      "execution_count": 70,
      "outputs": []
    },
    {
      "cell_type": "code",
      "source": [
        "Train_df['mode'].unique()"
      ],
      "metadata": {
        "colab": {
          "base_uri": "https://localhost:8080/"
        },
        "id": "I6C02Z2jnH4Z",
        "outputId": "52e11166-3fa1-452b-de3d-f297424c0a8e"
      },
      "execution_count": 71,
      "outputs": [
        {
          "output_type": "execute_result",
          "data": {
            "text/plain": [
              "array([1, 2, 0, 3])"
            ]
          },
          "metadata": {},
          "execution_count": 71
        }
      ]
    },
    {
      "cell_type": "code",
      "source": [
        "Train_df['musician_category'].unique()"
      ],
      "metadata": {
        "colab": {
          "base_uri": "https://localhost:8080/"
        },
        "id": "nmB7KUW4nMVH",
        "outputId": "6503eec9-85a8-4e55-cfbb-c92fb6d2e38f"
      },
      "execution_count": 72,
      "outputs": [
        {
          "output_type": "execute_result",
          "data": {
            "text/plain": [
              "array(['Band', 'Duet', 'Solo', nan], dtype=object)"
            ]
          },
          "metadata": {},
          "execution_count": 72
        }
      ]
    },
    {
      "cell_type": "code",
      "source": [
        "Train_df['musician_category'].replace({'Duet':3,'Band':2,'Solo':1,np.NaN:0},inplace=True)"
      ],
      "metadata": {
        "id": "a9TOFSjfnYSE"
      },
      "execution_count": 73,
      "outputs": []
    },
    {
      "cell_type": "code",
      "source": [
        "Train_df['musician_category'].unique()"
      ],
      "metadata": {
        "colab": {
          "base_uri": "https://localhost:8080/"
        },
        "id": "xuDp14N-oLBp",
        "outputId": "3432fa5d-4ca4-4dae-e88c-b148882d457d"
      },
      "execution_count": 74,
      "outputs": [
        {
          "output_type": "execute_result",
          "data": {
            "text/plain": [
              "array([2, 3, 1, 0])"
            ]
          },
          "metadata": {},
          "execution_count": 74
        }
      ]
    },
    {
      "cell_type": "code",
      "source": [
        "Train_df['tempo'].unique()"
      ],
      "metadata": {
        "colab": {
          "base_uri": "https://localhost:8080/"
        },
        "id": "F03jA0l9oVFY",
        "outputId": "81ba72a8-92ca-4413-f7e3-1d40fd970520"
      },
      "execution_count": 75,
      "outputs": [
        {
          "output_type": "execute_result",
          "data": {
            "text/plain": [
              "array(['143.78799999999998', '?', '105.01799999999999', ..., '129.445',\n",
              "       '123.17', '94.2'], dtype=object)"
            ]
          },
          "metadata": {},
          "execution_count": 75
        }
      ]
    },
    {
      "cell_type": "code",
      "source": [
        "Train_df['tempo'].replace({'?':100},inplace=True)"
      ],
      "metadata": {
        "id": "Q6_IAtpno8dP"
      },
      "execution_count": 76,
      "outputs": []
    },
    {
      "cell_type": "code",
      "source": [
        "Train_df['tempo'] = Train_df['tempo'].astype(float)"
      ],
      "metadata": {
        "id": "Pnwd6VVqtSZF"
      },
      "execution_count": 77,
      "outputs": []
    },
    {
      "cell_type": "code",
      "source": [
        "Train_df.info()"
      ],
      "metadata": {
        "colab": {
          "base_uri": "https://localhost:8080/"
        },
        "id": "Sx6ITbqSuszv",
        "outputId": "1dbc1ad3-698f-4891-c8a0-10bda4e57204"
      },
      "execution_count": 78,
      "outputs": [
        {
          "output_type": "stream",
          "name": "stdout",
          "text": [
            "<class 'pandas.core.frame.DataFrame'>\n",
            "RangeIndex: 15681 entries, 0 to 15680\n",
            "Data columns (total 16 columns):\n",
            " #   Column             Non-Null Count  Dtype  \n",
            "---  ------             --------------  -----  \n",
            " 0   popularity         15039 non-null  float64\n",
            " 1   acousticness       15681 non-null  float64\n",
            " 2   danceability       15125 non-null  float64\n",
            " 3   duration_ms        15587 non-null  float64\n",
            " 4   energy             15587 non-null  float64\n",
            " 5   instrumentalness   15586 non-null  float64\n",
            " 6   key                15681 non-null  object \n",
            " 7   liveness           15681 non-null  float64\n",
            " 8   loudness           15645 non-null  float64\n",
            " 9   voice_gender       15681 non-null  int64  \n",
            " 10  mode               15681 non-null  int64  \n",
            " 11  speechiness        15655 non-null  float64\n",
            " 12  tempo              15681 non-null  float64\n",
            " 13  musician_category  15681 non-null  int64  \n",
            " 14  valence            15004 non-null  float64\n",
            " 15  music_genre        15681 non-null  object \n",
            "dtypes: float64(11), int64(3), object(2)\n",
            "memory usage: 1.9+ MB\n"
          ]
        }
      ]
    },
    {
      "cell_type": "code",
      "metadata": {
        "colab": {
          "base_uri": "https://localhost:8080/",
          "height": 423
        },
        "id": "It3_rMHZTGMW",
        "outputId": "f807c572-d6f5-4c0b-906b-210024c8ac7b"
      },
      "source": [
        "#Create a DataFrame containing all the non-numeric type features.\n",
        "Train_category_df=Train_df.select_dtypes(include=['object'])\n",
        "Train_category_df[Train_category_df.keys()]"
      ],
      "execution_count": 79,
      "outputs": [
        {
          "output_type": "execute_result",
          "data": {
            "text/html": [
              "<div>\n",
              "<style scoped>\n",
              "    .dataframe tbody tr th:only-of-type {\n",
              "        vertical-align: middle;\n",
              "    }\n",
              "\n",
              "    .dataframe tbody tr th {\n",
              "        vertical-align: top;\n",
              "    }\n",
              "\n",
              "    .dataframe thead th {\n",
              "        text-align: right;\n",
              "    }\n",
              "</style>\n",
              "<table border=\"1\" class=\"dataframe\">\n",
              "  <thead>\n",
              "    <tr style=\"text-align: right;\">\n",
              "      <th></th>\n",
              "      <th>key</th>\n",
              "      <th>music_genre</th>\n",
              "    </tr>\n",
              "  </thead>\n",
              "  <tbody>\n",
              "    <tr>\n",
              "      <th>0</th>\n",
              "      <td>Scale E</td>\n",
              "      <td>Jazz</td>\n",
              "    </tr>\n",
              "    <tr>\n",
              "      <th>1</th>\n",
              "      <td>Scale A</td>\n",
              "      <td>Jazz</td>\n",
              "    </tr>\n",
              "    <tr>\n",
              "      <th>2</th>\n",
              "      <td>Scale D</td>\n",
              "      <td>Rap</td>\n",
              "    </tr>\n",
              "    <tr>\n",
              "      <th>3</th>\n",
              "      <td>Scale D</td>\n",
              "      <td>Rock</td>\n",
              "    </tr>\n",
              "    <tr>\n",
              "      <th>4</th>\n",
              "      <td>Scale F Sharp</td>\n",
              "      <td>Classical</td>\n",
              "    </tr>\n",
              "    <tr>\n",
              "      <th>...</th>\n",
              "      <td>...</td>\n",
              "      <td>...</td>\n",
              "    </tr>\n",
              "    <tr>\n",
              "      <th>15676</th>\n",
              "      <td>Scale B</td>\n",
              "      <td>Classical</td>\n",
              "    </tr>\n",
              "    <tr>\n",
              "      <th>15677</th>\n",
              "      <td>Scale F</td>\n",
              "      <td>Jazz</td>\n",
              "    </tr>\n",
              "    <tr>\n",
              "      <th>15678</th>\n",
              "      <td>Scale D Sharp</td>\n",
              "      <td>Jazz</td>\n",
              "    </tr>\n",
              "    <tr>\n",
              "      <th>15679</th>\n",
              "      <td>Scale F</td>\n",
              "      <td>Rock</td>\n",
              "    </tr>\n",
              "    <tr>\n",
              "      <th>15680</th>\n",
              "      <td>Scale F</td>\n",
              "      <td>Classical</td>\n",
              "    </tr>\n",
              "  </tbody>\n",
              "</table>\n",
              "<p>15681 rows × 2 columns</p>\n",
              "</div>"
            ],
            "text/plain": [
              "                 key music_genre\n",
              "0            Scale E        Jazz\n",
              "1            Scale A        Jazz\n",
              "2            Scale D         Rap\n",
              "3            Scale D        Rock\n",
              "4      Scale F Sharp   Classical\n",
              "...              ...         ...\n",
              "15676        Scale B   Classical\n",
              "15677        Scale F        Jazz\n",
              "15678  Scale D Sharp        Jazz\n",
              "15679        Scale F        Rock\n",
              "15680        Scale F   Classical\n",
              "\n",
              "[15681 rows x 2 columns]"
            ]
          },
          "metadata": {},
          "execution_count": 79
        }
      ]
    },
    {
      "cell_type": "code",
      "metadata": {
        "colab": {
          "base_uri": "https://localhost:8080/"
        },
        "id": "YkKzrbfBHoIF",
        "outputId": "aad7dc6e-2d45-422a-c6cc-eb845aac0724"
      },
      "source": [
        "Train_dummy_df=pd.get_dummies(Train_df[Train_category_df.keys()[0:1]],drop_first=True,dtype=int)\n",
        "Train_dummy_df.keys()"
      ],
      "execution_count": 80,
      "outputs": [
        {
          "output_type": "execute_result",
          "data": {
            "text/plain": [
              "Index(['key_Scale A Sharp', 'key_Scale B', 'key_Scale C', 'key_Scale C Sharp',\n",
              "       'key_Scale D', 'key_Scale D Sharp', 'key_Scale E', 'key_Scale F',\n",
              "       'key_Scale F Sharp', 'key_Scale G', 'key_Scale G Sharp'],\n",
              "      dtype='object')"
            ]
          },
          "metadata": {},
          "execution_count": 80
        }
      ]
    },
    {
      "cell_type": "code",
      "metadata": {
        "id": "7a_RWaRs5rfN"
      },
      "source": [
        "Train_df.drop(columns='key',axis=1,inplace=True)"
      ],
      "execution_count": 81,
      "outputs": []
    },
    {
      "cell_type": "code",
      "metadata": {
        "colab": {
          "base_uri": "https://localhost:8080/",
          "height": 243
        },
        "id": "93_mi5uo1c2O",
        "outputId": "54908b8a-f853-46ee-fafa-47981039d88c"
      },
      "source": [
        "Train_df2=pd.concat([Train_df,Train_dummy_df],axis=1)\n",
        "Train_df2.head()"
      ],
      "execution_count": 82,
      "outputs": [
        {
          "output_type": "execute_result",
          "data": {
            "text/html": [
              "<div>\n",
              "<style scoped>\n",
              "    .dataframe tbody tr th:only-of-type {\n",
              "        vertical-align: middle;\n",
              "    }\n",
              "\n",
              "    .dataframe tbody tr th {\n",
              "        vertical-align: top;\n",
              "    }\n",
              "\n",
              "    .dataframe thead th {\n",
              "        text-align: right;\n",
              "    }\n",
              "</style>\n",
              "<table border=\"1\" class=\"dataframe\">\n",
              "  <thead>\n",
              "    <tr style=\"text-align: right;\">\n",
              "      <th></th>\n",
              "      <th>popularity</th>\n",
              "      <th>acousticness</th>\n",
              "      <th>danceability</th>\n",
              "      <th>duration_ms</th>\n",
              "      <th>energy</th>\n",
              "      <th>instrumentalness</th>\n",
              "      <th>liveness</th>\n",
              "      <th>loudness</th>\n",
              "      <th>voice_gender</th>\n",
              "      <th>mode</th>\n",
              "      <th>speechiness</th>\n",
              "      <th>tempo</th>\n",
              "      <th>musician_category</th>\n",
              "      <th>valence</th>\n",
              "      <th>music_genre</th>\n",
              "      <th>key_Scale A Sharp</th>\n",
              "      <th>key_Scale B</th>\n",
              "      <th>key_Scale C</th>\n",
              "      <th>key_Scale C Sharp</th>\n",
              "      <th>key_Scale D</th>\n",
              "      <th>key_Scale D Sharp</th>\n",
              "      <th>key_Scale E</th>\n",
              "      <th>key_Scale F</th>\n",
              "      <th>key_Scale F Sharp</th>\n",
              "      <th>key_Scale G</th>\n",
              "      <th>key_Scale G Sharp</th>\n",
              "    </tr>\n",
              "  </thead>\n",
              "  <tbody>\n",
              "    <tr>\n",
              "      <th>0</th>\n",
              "      <td>49.178</td>\n",
              "      <td>0.970522</td>\n",
              "      <td>0.580508</td>\n",
              "      <td>214625.776</td>\n",
              "      <td>0.192107</td>\n",
              "      <td>0.000000</td>\n",
              "      <td>0.147134</td>\n",
              "      <td>-14.140</td>\n",
              "      <td>3</td>\n",
              "      <td>1</td>\n",
              "      <td>0.046404</td>\n",
              "      <td>143.788</td>\n",
              "      <td>2</td>\n",
              "      <td>0.598965</td>\n",
              "      <td>Jazz</td>\n",
              "      <td>0</td>\n",
              "      <td>0</td>\n",
              "      <td>0</td>\n",
              "      <td>0</td>\n",
              "      <td>0</td>\n",
              "      <td>0</td>\n",
              "      <td>1</td>\n",
              "      <td>0</td>\n",
              "      <td>0</td>\n",
              "      <td>0</td>\n",
              "      <td>0</td>\n",
              "    </tr>\n",
              "    <tr>\n",
              "      <th>1</th>\n",
              "      <td>59.827</td>\n",
              "      <td>1.009380</td>\n",
              "      <td>0.687542</td>\n",
              "      <td>216232.195</td>\n",
              "      <td>0.265942</td>\n",
              "      <td>0.000031</td>\n",
              "      <td>0.174655</td>\n",
              "      <td>-13.716</td>\n",
              "      <td>1</td>\n",
              "      <td>2</td>\n",
              "      <td>0.039949</td>\n",
              "      <td>100.000</td>\n",
              "      <td>2</td>\n",
              "      <td>0.357194</td>\n",
              "      <td>Jazz</td>\n",
              "      <td>0</td>\n",
              "      <td>0</td>\n",
              "      <td>0</td>\n",
              "      <td>0</td>\n",
              "      <td>0</td>\n",
              "      <td>0</td>\n",
              "      <td>0</td>\n",
              "      <td>0</td>\n",
              "      <td>0</td>\n",
              "      <td>0</td>\n",
              "      <td>0</td>\n",
              "    </tr>\n",
              "    <tr>\n",
              "      <th>2</th>\n",
              "      <td>89.023</td>\n",
              "      <td>0.020041</td>\n",
              "      <td>0.967948</td>\n",
              "      <td>273314.723</td>\n",
              "      <td>0.857411</td>\n",
              "      <td>0.000000</td>\n",
              "      <td>0.042030</td>\n",
              "      <td>-4.995</td>\n",
              "      <td>0</td>\n",
              "      <td>1</td>\n",
              "      <td>0.119917</td>\n",
              "      <td>105.018</td>\n",
              "      <td>2</td>\n",
              "      <td>0.635525</td>\n",
              "      <td>Rap</td>\n",
              "      <td>0</td>\n",
              "      <td>0</td>\n",
              "      <td>0</td>\n",
              "      <td>0</td>\n",
              "      <td>1</td>\n",
              "      <td>0</td>\n",
              "      <td>0</td>\n",
              "      <td>0</td>\n",
              "      <td>0</td>\n",
              "      <td>0</td>\n",
              "      <td>0</td>\n",
              "    </tr>\n",
              "    <tr>\n",
              "      <th>3</th>\n",
              "      <td>55.762</td>\n",
              "      <td>0.010284</td>\n",
              "      <td>0.616287</td>\n",
              "      <td>189189.605</td>\n",
              "      <td>0.970513</td>\n",
              "      <td>0.000220</td>\n",
              "      <td>0.124637</td>\n",
              "      <td>-4.262</td>\n",
              "      <td>2</td>\n",
              "      <td>1</td>\n",
              "      <td>0.167493</td>\n",
              "      <td>100.000</td>\n",
              "      <td>3</td>\n",
              "      <td>0.983750</td>\n",
              "      <td>Rock</td>\n",
              "      <td>0</td>\n",
              "      <td>0</td>\n",
              "      <td>0</td>\n",
              "      <td>0</td>\n",
              "      <td>1</td>\n",
              "      <td>0</td>\n",
              "      <td>0</td>\n",
              "      <td>0</td>\n",
              "      <td>0</td>\n",
              "      <td>0</td>\n",
              "      <td>0</td>\n",
              "    </tr>\n",
              "    <tr>\n",
              "      <th>4</th>\n",
              "      <td>45.095</td>\n",
              "      <td>0.858769</td>\n",
              "      <td>0.280645</td>\n",
              "      <td>410136.987</td>\n",
              "      <td>0.114732</td>\n",
              "      <td>0.002753</td>\n",
              "      <td>0.134782</td>\n",
              "      <td>-26.922</td>\n",
              "      <td>0</td>\n",
              "      <td>0</td>\n",
              "      <td>0.039139</td>\n",
              "      <td>112.183</td>\n",
              "      <td>2</td>\n",
              "      <td>0.074412</td>\n",
              "      <td>Classical</td>\n",
              "      <td>0</td>\n",
              "      <td>0</td>\n",
              "      <td>0</td>\n",
              "      <td>0</td>\n",
              "      <td>0</td>\n",
              "      <td>0</td>\n",
              "      <td>0</td>\n",
              "      <td>0</td>\n",
              "      <td>1</td>\n",
              "      <td>0</td>\n",
              "      <td>0</td>\n",
              "    </tr>\n",
              "  </tbody>\n",
              "</table>\n",
              "</div>"
            ],
            "text/plain": [
              "   popularity  acousticness  ...  key_Scale G  key_Scale G Sharp\n",
              "0      49.178      0.970522  ...            0                  0\n",
              "1      59.827      1.009380  ...            0                  0\n",
              "2      89.023      0.020041  ...            0                  0\n",
              "3      55.762      0.010284  ...            0                  0\n",
              "4      45.095      0.858769  ...            0                  0\n",
              "\n",
              "[5 rows x 26 columns]"
            ]
          },
          "metadata": {},
          "execution_count": 82
        }
      ]
    },
    {
      "cell_type": "code",
      "source": [
        "Train_df2['popularity'].fillna(Train_df2['popularity'].median(), inplace=True)\n",
        "Train_df2['danceability'].fillna(Train_df2['danceability'].median(), inplace=True)\n",
        "Train_df2['duration_ms'].fillna(Train_df2['duration_ms'].median(), inplace=True)\n",
        "Train_df2['energy'].fillna(Train_df2['energy'].median(), inplace=True)\n",
        "Train_df2['instrumentalness'].fillna(Train_df2['instrumentalness'].median(), inplace=True)\n",
        "Train_df2['loudness'].fillna(Train_df2['loudness'].median(), inplace=True)\n",
        "Train_df2['speechiness'].fillna(Train_df2['speechiness'].median(), inplace=True)\n",
        "Train_df2['valence'].fillna(Train_df2['valence'].median(), inplace=True)"
      ],
      "metadata": {
        "id": "a34iNPyVzPyu"
      },
      "execution_count": 83,
      "outputs": []
    },
    {
      "cell_type": "code",
      "source": [
        "Train_df2['music_genre'].unique()"
      ],
      "metadata": {
        "colab": {
          "base_uri": "https://localhost:8080/"
        },
        "id": "CTHMCqE88qXB",
        "outputId": "ebda1ab1-bb82-4a08-c44e-3b2acd01733b"
      },
      "execution_count": 84,
      "outputs": [
        {
          "output_type": "execute_result",
          "data": {
            "text/plain": [
              "array(['Jazz', 'Rap', 'Rock', 'Classical', 'Electronic', 'Country',\n",
              "       'Hip-Hop'], dtype=object)"
            ]
          },
          "metadata": {},
          "execution_count": 84
        }
      ]
    },
    {
      "cell_type": "code",
      "source": [
        "Train_df2['music_genre'].replace({'Jazz':1,'Rap':2,'Rock':3,'Classical':4,'Electronic':5,'Country':6,'Hip-Hop':7},inplace=True)"
      ],
      "metadata": {
        "id": "X5zcbO6u83T3"
      },
      "execution_count": 85,
      "outputs": []
    },
    {
      "cell_type": "code",
      "source": [
        "Train_df2.isnull().sum()"
      ],
      "metadata": {
        "colab": {
          "base_uri": "https://localhost:8080/"
        },
        "id": "BKwMFBg6x3l3",
        "outputId": "d4b63886-06d3-4321-dfd7-d5fef7132652"
      },
      "execution_count": 86,
      "outputs": [
        {
          "output_type": "execute_result",
          "data": {
            "text/plain": [
              "popularity           0\n",
              "acousticness         0\n",
              "danceability         0\n",
              "duration_ms          0\n",
              "energy               0\n",
              "instrumentalness     0\n",
              "liveness             0\n",
              "loudness             0\n",
              "voice_gender         0\n",
              "mode                 0\n",
              "speechiness          0\n",
              "tempo                0\n",
              "musician_category    0\n",
              "valence              0\n",
              "music_genre          0\n",
              "key_Scale A Sharp    0\n",
              "key_Scale B          0\n",
              "key_Scale C          0\n",
              "key_Scale C Sharp    0\n",
              "key_Scale D          0\n",
              "key_Scale D Sharp    0\n",
              "key_Scale E          0\n",
              "key_Scale F          0\n",
              "key_Scale F Sharp    0\n",
              "key_Scale G          0\n",
              "key_Scale G Sharp    0\n",
              "dtype: int64"
            ]
          },
          "metadata": {},
          "execution_count": 86
        }
      ]
    },
    {
      "cell_type": "markdown",
      "metadata": {
        "id": "tDkRJE0ygtMJ"
      },
      "source": [
        "#Dataset Cleaning for Test set"
      ]
    },
    {
      "cell_type": "code",
      "metadata": {
        "colab": {
          "base_uri": "https://localhost:8080/",
          "height": 382
        },
        "id": "xQfVK1Ex2Cxn",
        "outputId": "712b1eb3-b311-4943-8176-bf6c693aab36"
      },
      "source": [
        "Test_df.head()"
      ],
      "execution_count": 87,
      "outputs": [
        {
          "output_type": "execute_result",
          "data": {
            "text/html": [
              "<div>\n",
              "<style scoped>\n",
              "    .dataframe tbody tr th:only-of-type {\n",
              "        vertical-align: middle;\n",
              "    }\n",
              "\n",
              "    .dataframe tbody tr th {\n",
              "        vertical-align: top;\n",
              "    }\n",
              "\n",
              "    .dataframe thead th {\n",
              "        text-align: right;\n",
              "    }\n",
              "</style>\n",
              "<table border=\"1\" class=\"dataframe\">\n",
              "  <thead>\n",
              "    <tr style=\"text-align: right;\">\n",
              "      <th></th>\n",
              "      <th>instance_id</th>\n",
              "      <th>track_name</th>\n",
              "      <th>popularity</th>\n",
              "      <th>acousticness</th>\n",
              "      <th>danceability</th>\n",
              "      <th>duration_ms</th>\n",
              "      <th>energy</th>\n",
              "      <th>instrumentalness</th>\n",
              "      <th>key</th>\n",
              "      <th>liveness</th>\n",
              "      <th>loudness</th>\n",
              "      <th>voice_gender</th>\n",
              "      <th>mode</th>\n",
              "      <th>speechiness</th>\n",
              "      <th>tempo</th>\n",
              "      <th>musician_category</th>\n",
              "      <th>valence</th>\n",
              "    </tr>\n",
              "  </thead>\n",
              "  <tbody>\n",
              "    <tr>\n",
              "      <th>0</th>\n",
              "      <td>MSC_70753.0</td>\n",
              "      <td>Bard, a Man of Lake-town - Extended Version</td>\n",
              "      <td>26.101</td>\n",
              "      <td>0.823765</td>\n",
              "      <td>0.115490</td>\n",
              "      <td>211462.287</td>\n",
              "      <td>0.125325</td>\n",
              "      <td>0.945272</td>\n",
              "      <td>Scale A Sharp</td>\n",
              "      <td>0.120392</td>\n",
              "      <td>-25.541</td>\n",
              "      <td>Both</td>\n",
              "      <td>Minor</td>\n",
              "      <td>0.038657</td>\n",
              "      <td>80.777</td>\n",
              "      <td>Duet</td>\n",
              "      <td>0.041238</td>\n",
              "    </tr>\n",
              "    <tr>\n",
              "      <th>1</th>\n",
              "      <td>MSC_24064.0</td>\n",
              "      <td>New Kings</td>\n",
              "      <td>66.325</td>\n",
              "      <td>0.015441</td>\n",
              "      <td>0.592838</td>\n",
              "      <td>249151.238</td>\n",
              "      <td>0.870798</td>\n",
              "      <td>0.000108</td>\n",
              "      <td>Scale E</td>\n",
              "      <td>0.406722</td>\n",
              "      <td>-3.905</td>\n",
              "      <td>Male</td>\n",
              "      <td>?</td>\n",
              "      <td>0.051368</td>\n",
              "      <td>76.00399999999999</td>\n",
              "      <td>Band</td>\n",
              "      <td>0.456309</td>\n",
              "    </tr>\n",
              "    <tr>\n",
              "      <th>2</th>\n",
              "      <td>MSC_22731.0</td>\n",
              "      <td>Silver Lining</td>\n",
              "      <td>71.871</td>\n",
              "      <td>0.001006</td>\n",
              "      <td>0.510340</td>\n",
              "      <td>215693.240</td>\n",
              "      <td>0.683077</td>\n",
              "      <td>0.000000</td>\n",
              "      <td>Scale C</td>\n",
              "      <td>0.084608</td>\n",
              "      <td>-6.825</td>\n",
              "      <td>Female</td>\n",
              "      <td>Major</td>\n",
              "      <td>0.034303</td>\n",
              "      <td>144.458</td>\n",
              "      <td>Solo</td>\n",
              "      <td>0.193332</td>\n",
              "    </tr>\n",
              "    <tr>\n",
              "      <th>3</th>\n",
              "      <td>MSC_32095.0</td>\n",
              "      <td>A Tale That Wasn't Right</td>\n",
              "      <td>56.151</td>\n",
              "      <td>0.315650</td>\n",
              "      <td>0.338336</td>\n",
              "      <td>307056.179</td>\n",
              "      <td>0.608904</td>\n",
              "      <td>0.000000</td>\n",
              "      <td>Scale A</td>\n",
              "      <td>0.276811</td>\n",
              "      <td>-8.382</td>\n",
              "      <td>Female</td>\n",
              "      <td>Minor</td>\n",
              "      <td>0.036934</td>\n",
              "      <td>118.145</td>\n",
              "      <td>Solo</td>\n",
              "      <td>0.214906</td>\n",
              "    </tr>\n",
              "    <tr>\n",
              "      <th>4</th>\n",
              "      <td>MSC_24198.0</td>\n",
              "      <td>Get Ready</td>\n",
              "      <td>43.687</td>\n",
              "      <td>0.038336</td>\n",
              "      <td>0.773904</td>\n",
              "      <td>352802.872</td>\n",
              "      <td>0.955500</td>\n",
              "      <td>0.000007</td>\n",
              "      <td>Scale D</td>\n",
              "      <td>0.301726</td>\n",
              "      <td>-4.733</td>\n",
              "      <td>Both</td>\n",
              "      <td>Major</td>\n",
              "      <td>0.079688</td>\n",
              "      <td>95.012</td>\n",
              "      <td>Duet</td>\n",
              "      <td>0.757347</td>\n",
              "    </tr>\n",
              "  </tbody>\n",
              "</table>\n",
              "</div>"
            ],
            "text/plain": [
              "   instance_id  ...   valence\n",
              "0  MSC_70753.0  ...  0.041238\n",
              "1  MSC_24064.0  ...  0.456309\n",
              "2  MSC_22731.0  ...  0.193332\n",
              "3  MSC_32095.0  ...  0.214906\n",
              "4  MSC_24198.0  ...  0.757347\n",
              "\n",
              "[5 rows x 17 columns]"
            ]
          },
          "metadata": {},
          "execution_count": 87
        }
      ]
    },
    {
      "cell_type": "code",
      "metadata": {
        "colab": {
          "base_uri": "https://localhost:8080/"
        },
        "id": "XZzxyiDFg8zs",
        "outputId": "3a3e81bb-76ed-4c4d-a28b-0220497aa8cc"
      },
      "source": [
        "Test_df.info()"
      ],
      "execution_count": 88,
      "outputs": [
        {
          "output_type": "stream",
          "name": "stdout",
          "text": [
            "<class 'pandas.core.frame.DataFrame'>\n",
            "RangeIndex: 3921 entries, 0 to 3920\n",
            "Data columns (total 17 columns):\n",
            " #   Column             Non-Null Count  Dtype  \n",
            "---  ------             --------------  -----  \n",
            " 0   instance_id        3921 non-null   object \n",
            " 1   track_name         3921 non-null   object \n",
            " 2   popularity         3755 non-null   float64\n",
            " 3   acousticness       3921 non-null   float64\n",
            " 4   danceability       3782 non-null   float64\n",
            " 5   duration_ms        3900 non-null   float64\n",
            " 6   energy             3888 non-null   float64\n",
            " 7   instrumentalness   3898 non-null   float64\n",
            " 8   key                3921 non-null   object \n",
            " 9   liveness           3921 non-null   float64\n",
            " 10  loudness           3918 non-null   float64\n",
            " 11  voice_gender       3735 non-null   object \n",
            " 12  mode               3907 non-null   object \n",
            " 13  speechiness        3914 non-null   float64\n",
            " 14  tempo              3921 non-null   object \n",
            " 15  musician_category  3609 non-null   object \n",
            " 16  valence            3730 non-null   float64\n",
            "dtypes: float64(10), object(7)\n",
            "memory usage: 520.9+ KB\n"
          ]
        }
      ]
    },
    {
      "cell_type": "code",
      "metadata": {
        "colab": {
          "base_uri": "https://localhost:8080/"
        },
        "id": "nLmF8fYShFMo",
        "outputId": "3ceb878d-c473-4607-db6f-d91094fad1d0"
      },
      "source": [
        "Test_df.isnull().sum()"
      ],
      "execution_count": 89,
      "outputs": [
        {
          "output_type": "execute_result",
          "data": {
            "text/plain": [
              "instance_id            0\n",
              "track_name             0\n",
              "popularity           166\n",
              "acousticness           0\n",
              "danceability         139\n",
              "duration_ms           21\n",
              "energy                33\n",
              "instrumentalness      23\n",
              "key                    0\n",
              "liveness               0\n",
              "loudness               3\n",
              "voice_gender         186\n",
              "mode                  14\n",
              "speechiness            7\n",
              "tempo                  0\n",
              "musician_category    312\n",
              "valence              191\n",
              "dtype: int64"
            ]
          },
          "metadata": {},
          "execution_count": 89
        }
      ]
    },
    {
      "cell_type": "code",
      "source": [
        "Test_df.drop(columns=['track_name'],axis=1,inplace=True)"
      ],
      "metadata": {
        "id": "6QhsVQ_j2vBc"
      },
      "execution_count": 90,
      "outputs": []
    },
    {
      "cell_type": "code",
      "metadata": {
        "id": "IwMPAG_JhKwa"
      },
      "source": [
        "Test_df['voice_gender'].replace({'Male':1,'Female':0,'Both':2,np.NaN:3},inplace=True)\n",
        "Test_df['mode'].replace({'Major':1,'Minor':0,'?':2,np.NaN:3},inplace=True)\n",
        "Test_df['musician_category'].replace({'Duet':3,'Band':2,'Solo':1,np.NaN:0},inplace=True)\n",
        "Test_df['tempo'].replace({'?':100},inplace=True)\n",
        "Test_df['tempo'] = Test_df['tempo'].astype(float)"
      ],
      "execution_count": 91,
      "outputs": []
    },
    {
      "cell_type": "code",
      "source": [
        "Test_df.info()"
      ],
      "metadata": {
        "id": "vQf8qV05NzLA",
        "colab": {
          "base_uri": "https://localhost:8080/"
        },
        "outputId": "9b17ff34-a234-48ac-abfb-ded5e42fcc82"
      },
      "execution_count": 92,
      "outputs": [
        {
          "output_type": "stream",
          "name": "stdout",
          "text": [
            "<class 'pandas.core.frame.DataFrame'>\n",
            "RangeIndex: 3921 entries, 0 to 3920\n",
            "Data columns (total 16 columns):\n",
            " #   Column             Non-Null Count  Dtype  \n",
            "---  ------             --------------  -----  \n",
            " 0   instance_id        3921 non-null   object \n",
            " 1   popularity         3755 non-null   float64\n",
            " 2   acousticness       3921 non-null   float64\n",
            " 3   danceability       3782 non-null   float64\n",
            " 4   duration_ms        3900 non-null   float64\n",
            " 5   energy             3888 non-null   float64\n",
            " 6   instrumentalness   3898 non-null   float64\n",
            " 7   key                3921 non-null   object \n",
            " 8   liveness           3921 non-null   float64\n",
            " 9   loudness           3918 non-null   float64\n",
            " 10  voice_gender       3921 non-null   int64  \n",
            " 11  mode               3921 non-null   int64  \n",
            " 12  speechiness        3914 non-null   float64\n",
            " 13  tempo              3921 non-null   float64\n",
            " 14  musician_category  3921 non-null   int64  \n",
            " 15  valence            3730 non-null   float64\n",
            "dtypes: float64(11), int64(3), object(2)\n",
            "memory usage: 490.2+ KB\n"
          ]
        }
      ]
    },
    {
      "cell_type": "code",
      "metadata": {
        "colab": {
          "base_uri": "https://localhost:8080/",
          "height": 423
        },
        "id": "ajsJqS8PicHe",
        "outputId": "aa904853-ceed-4c48-c248-8e0191ecdbc9"
      },
      "source": [
        "Test_category_df=Test_df.select_dtypes(include=['object'])\n",
        "Test_category_df"
      ],
      "execution_count": 93,
      "outputs": [
        {
          "output_type": "execute_result",
          "data": {
            "text/html": [
              "<div>\n",
              "<style scoped>\n",
              "    .dataframe tbody tr th:only-of-type {\n",
              "        vertical-align: middle;\n",
              "    }\n",
              "\n",
              "    .dataframe tbody tr th {\n",
              "        vertical-align: top;\n",
              "    }\n",
              "\n",
              "    .dataframe thead th {\n",
              "        text-align: right;\n",
              "    }\n",
              "</style>\n",
              "<table border=\"1\" class=\"dataframe\">\n",
              "  <thead>\n",
              "    <tr style=\"text-align: right;\">\n",
              "      <th></th>\n",
              "      <th>instance_id</th>\n",
              "      <th>key</th>\n",
              "    </tr>\n",
              "  </thead>\n",
              "  <tbody>\n",
              "    <tr>\n",
              "      <th>0</th>\n",
              "      <td>MSC_70753.0</td>\n",
              "      <td>Scale A Sharp</td>\n",
              "    </tr>\n",
              "    <tr>\n",
              "      <th>1</th>\n",
              "      <td>MSC_24064.0</td>\n",
              "      <td>Scale E</td>\n",
              "    </tr>\n",
              "    <tr>\n",
              "      <th>2</th>\n",
              "      <td>MSC_22731.0</td>\n",
              "      <td>Scale C</td>\n",
              "    </tr>\n",
              "    <tr>\n",
              "      <th>3</th>\n",
              "      <td>MSC_32095.0</td>\n",
              "      <td>Scale A</td>\n",
              "    </tr>\n",
              "    <tr>\n",
              "      <th>4</th>\n",
              "      <td>MSC_24198.0</td>\n",
              "      <td>Scale D</td>\n",
              "    </tr>\n",
              "    <tr>\n",
              "      <th>...</th>\n",
              "      <td>...</td>\n",
              "      <td>...</td>\n",
              "    </tr>\n",
              "    <tr>\n",
              "      <th>3916</th>\n",
              "      <td>MSC_80955.0</td>\n",
              "      <td>Scale B</td>\n",
              "    </tr>\n",
              "    <tr>\n",
              "      <th>3917</th>\n",
              "      <td>MSC_72767.0</td>\n",
              "      <td>Scale E</td>\n",
              "    </tr>\n",
              "    <tr>\n",
              "      <th>3918</th>\n",
              "      <td>MSC_40192.0</td>\n",
              "      <td>Scale G</td>\n",
              "    </tr>\n",
              "    <tr>\n",
              "      <th>3919</th>\n",
              "      <td>MSC_56067.0</td>\n",
              "      <td>Scale D Sharp</td>\n",
              "    </tr>\n",
              "    <tr>\n",
              "      <th>3920</th>\n",
              "      <td>MSC_90169.0</td>\n",
              "      <td>Scale G</td>\n",
              "    </tr>\n",
              "  </tbody>\n",
              "</table>\n",
              "<p>3921 rows × 2 columns</p>\n",
              "</div>"
            ],
            "text/plain": [
              "      instance_id            key\n",
              "0     MSC_70753.0  Scale A Sharp\n",
              "1     MSC_24064.0        Scale E\n",
              "2     MSC_22731.0        Scale C\n",
              "3     MSC_32095.0        Scale A\n",
              "4     MSC_24198.0        Scale D\n",
              "...           ...            ...\n",
              "3916  MSC_80955.0        Scale B\n",
              "3917  MSC_72767.0        Scale E\n",
              "3918  MSC_40192.0        Scale G\n",
              "3919  MSC_56067.0  Scale D Sharp\n",
              "3920  MSC_90169.0        Scale G\n",
              "\n",
              "[3921 rows x 2 columns]"
            ]
          },
          "metadata": {},
          "execution_count": 93
        }
      ]
    },
    {
      "cell_type": "code",
      "metadata": {
        "colab": {
          "base_uri": "https://localhost:8080/"
        },
        "id": "gr8nqZjCikow",
        "outputId": "8649e6b7-60ea-4c32-8963-61a327407ac0"
      },
      "source": [
        "Test_dummy_df=pd.get_dummies(Test_df[Test_category_df.keys()[1:]],drop_first=True,dtype=int)\n",
        "Test_dummy_df.keys()"
      ],
      "execution_count": 94,
      "outputs": [
        {
          "output_type": "execute_result",
          "data": {
            "text/plain": [
              "Index(['key_Scale A Sharp', 'key_Scale B', 'key_Scale C', 'key_Scale C Sharp',\n",
              "       'key_Scale D', 'key_Scale D Sharp', 'key_Scale E', 'key_Scale F',\n",
              "       'key_Scale F Sharp', 'key_Scale G', 'key_Scale G Sharp'],\n",
              "      dtype='object')"
            ]
          },
          "metadata": {},
          "execution_count": 94
        }
      ]
    },
    {
      "cell_type": "code",
      "metadata": {
        "id": "ZbdLDccejhXV"
      },
      "source": [
        "Test_df.drop(columns=Test_category_df.keys()[1:],axis=1,inplace=True)"
      ],
      "execution_count": 95,
      "outputs": []
    },
    {
      "cell_type": "code",
      "metadata": {
        "colab": {
          "base_uri": "https://localhost:8080/",
          "height": 243
        },
        "id": "8wumqXBYjqYU",
        "outputId": "c15561e2-01f7-4100-9570-75e0af947e74"
      },
      "source": [
        "Test_df2=pd.concat([Test_df,Test_dummy_df],axis=1)\n",
        "Test_df2.head()"
      ],
      "execution_count": 96,
      "outputs": [
        {
          "output_type": "execute_result",
          "data": {
            "text/html": [
              "<div>\n",
              "<style scoped>\n",
              "    .dataframe tbody tr th:only-of-type {\n",
              "        vertical-align: middle;\n",
              "    }\n",
              "\n",
              "    .dataframe tbody tr th {\n",
              "        vertical-align: top;\n",
              "    }\n",
              "\n",
              "    .dataframe thead th {\n",
              "        text-align: right;\n",
              "    }\n",
              "</style>\n",
              "<table border=\"1\" class=\"dataframe\">\n",
              "  <thead>\n",
              "    <tr style=\"text-align: right;\">\n",
              "      <th></th>\n",
              "      <th>instance_id</th>\n",
              "      <th>popularity</th>\n",
              "      <th>acousticness</th>\n",
              "      <th>danceability</th>\n",
              "      <th>duration_ms</th>\n",
              "      <th>energy</th>\n",
              "      <th>instrumentalness</th>\n",
              "      <th>liveness</th>\n",
              "      <th>loudness</th>\n",
              "      <th>voice_gender</th>\n",
              "      <th>mode</th>\n",
              "      <th>speechiness</th>\n",
              "      <th>tempo</th>\n",
              "      <th>musician_category</th>\n",
              "      <th>valence</th>\n",
              "      <th>key_Scale A Sharp</th>\n",
              "      <th>key_Scale B</th>\n",
              "      <th>key_Scale C</th>\n",
              "      <th>key_Scale C Sharp</th>\n",
              "      <th>key_Scale D</th>\n",
              "      <th>key_Scale D Sharp</th>\n",
              "      <th>key_Scale E</th>\n",
              "      <th>key_Scale F</th>\n",
              "      <th>key_Scale F Sharp</th>\n",
              "      <th>key_Scale G</th>\n",
              "      <th>key_Scale G Sharp</th>\n",
              "    </tr>\n",
              "  </thead>\n",
              "  <tbody>\n",
              "    <tr>\n",
              "      <th>0</th>\n",
              "      <td>MSC_70753.0</td>\n",
              "      <td>26.101</td>\n",
              "      <td>0.823765</td>\n",
              "      <td>0.115490</td>\n",
              "      <td>211462.287</td>\n",
              "      <td>0.125325</td>\n",
              "      <td>0.945272</td>\n",
              "      <td>0.120392</td>\n",
              "      <td>-25.541</td>\n",
              "      <td>2</td>\n",
              "      <td>0</td>\n",
              "      <td>0.038657</td>\n",
              "      <td>80.777</td>\n",
              "      <td>3</td>\n",
              "      <td>0.041238</td>\n",
              "      <td>1</td>\n",
              "      <td>0</td>\n",
              "      <td>0</td>\n",
              "      <td>0</td>\n",
              "      <td>0</td>\n",
              "      <td>0</td>\n",
              "      <td>0</td>\n",
              "      <td>0</td>\n",
              "      <td>0</td>\n",
              "      <td>0</td>\n",
              "      <td>0</td>\n",
              "    </tr>\n",
              "    <tr>\n",
              "      <th>1</th>\n",
              "      <td>MSC_24064.0</td>\n",
              "      <td>66.325</td>\n",
              "      <td>0.015441</td>\n",
              "      <td>0.592838</td>\n",
              "      <td>249151.238</td>\n",
              "      <td>0.870798</td>\n",
              "      <td>0.000108</td>\n",
              "      <td>0.406722</td>\n",
              "      <td>-3.905</td>\n",
              "      <td>1</td>\n",
              "      <td>2</td>\n",
              "      <td>0.051368</td>\n",
              "      <td>76.004</td>\n",
              "      <td>2</td>\n",
              "      <td>0.456309</td>\n",
              "      <td>0</td>\n",
              "      <td>0</td>\n",
              "      <td>0</td>\n",
              "      <td>0</td>\n",
              "      <td>0</td>\n",
              "      <td>0</td>\n",
              "      <td>1</td>\n",
              "      <td>0</td>\n",
              "      <td>0</td>\n",
              "      <td>0</td>\n",
              "      <td>0</td>\n",
              "    </tr>\n",
              "    <tr>\n",
              "      <th>2</th>\n",
              "      <td>MSC_22731.0</td>\n",
              "      <td>71.871</td>\n",
              "      <td>0.001006</td>\n",
              "      <td>0.510340</td>\n",
              "      <td>215693.240</td>\n",
              "      <td>0.683077</td>\n",
              "      <td>0.000000</td>\n",
              "      <td>0.084608</td>\n",
              "      <td>-6.825</td>\n",
              "      <td>0</td>\n",
              "      <td>1</td>\n",
              "      <td>0.034303</td>\n",
              "      <td>144.458</td>\n",
              "      <td>1</td>\n",
              "      <td>0.193332</td>\n",
              "      <td>0</td>\n",
              "      <td>0</td>\n",
              "      <td>1</td>\n",
              "      <td>0</td>\n",
              "      <td>0</td>\n",
              "      <td>0</td>\n",
              "      <td>0</td>\n",
              "      <td>0</td>\n",
              "      <td>0</td>\n",
              "      <td>0</td>\n",
              "      <td>0</td>\n",
              "    </tr>\n",
              "    <tr>\n",
              "      <th>3</th>\n",
              "      <td>MSC_32095.0</td>\n",
              "      <td>56.151</td>\n",
              "      <td>0.315650</td>\n",
              "      <td>0.338336</td>\n",
              "      <td>307056.179</td>\n",
              "      <td>0.608904</td>\n",
              "      <td>0.000000</td>\n",
              "      <td>0.276811</td>\n",
              "      <td>-8.382</td>\n",
              "      <td>0</td>\n",
              "      <td>0</td>\n",
              "      <td>0.036934</td>\n",
              "      <td>118.145</td>\n",
              "      <td>1</td>\n",
              "      <td>0.214906</td>\n",
              "      <td>0</td>\n",
              "      <td>0</td>\n",
              "      <td>0</td>\n",
              "      <td>0</td>\n",
              "      <td>0</td>\n",
              "      <td>0</td>\n",
              "      <td>0</td>\n",
              "      <td>0</td>\n",
              "      <td>0</td>\n",
              "      <td>0</td>\n",
              "      <td>0</td>\n",
              "    </tr>\n",
              "    <tr>\n",
              "      <th>4</th>\n",
              "      <td>MSC_24198.0</td>\n",
              "      <td>43.687</td>\n",
              "      <td>0.038336</td>\n",
              "      <td>0.773904</td>\n",
              "      <td>352802.872</td>\n",
              "      <td>0.955500</td>\n",
              "      <td>0.000007</td>\n",
              "      <td>0.301726</td>\n",
              "      <td>-4.733</td>\n",
              "      <td>2</td>\n",
              "      <td>1</td>\n",
              "      <td>0.079688</td>\n",
              "      <td>95.012</td>\n",
              "      <td>3</td>\n",
              "      <td>0.757347</td>\n",
              "      <td>0</td>\n",
              "      <td>0</td>\n",
              "      <td>0</td>\n",
              "      <td>0</td>\n",
              "      <td>1</td>\n",
              "      <td>0</td>\n",
              "      <td>0</td>\n",
              "      <td>0</td>\n",
              "      <td>0</td>\n",
              "      <td>0</td>\n",
              "      <td>0</td>\n",
              "    </tr>\n",
              "  </tbody>\n",
              "</table>\n",
              "</div>"
            ],
            "text/plain": [
              "   instance_id  popularity  ...  key_Scale G  key_Scale G Sharp\n",
              "0  MSC_70753.0      26.101  ...            0                  0\n",
              "1  MSC_24064.0      66.325  ...            0                  0\n",
              "2  MSC_22731.0      71.871  ...            0                  0\n",
              "3  MSC_32095.0      56.151  ...            0                  0\n",
              "4  MSC_24198.0      43.687  ...            0                  0\n",
              "\n",
              "[5 rows x 26 columns]"
            ]
          },
          "metadata": {},
          "execution_count": 96
        }
      ]
    },
    {
      "cell_type": "code",
      "metadata": {
        "id": "d2y6mwYilHsk"
      },
      "source": [
        "Test_df2['popularity'].fillna(Test_df2['popularity'].median(), inplace=True)\n",
        "Test_df2['danceability'].fillna(Test_df2['danceability'].median(), inplace=True)\n",
        "Test_df2['duration_ms'].fillna(Test_df2['duration_ms'].median(), inplace=True)\n",
        "Test_df2['energy'].fillna(Test_df2['energy'].median(), inplace=True)\n",
        "Test_df2['instrumentalness'].fillna(Test_df2['instrumentalness'].median(), inplace=True)\n",
        "Test_df2['loudness'].fillna(Test_df2['loudness'].median(), inplace=True)\n",
        "Test_df2['speechiness'].fillna(Test_df2['speechiness'].median(), inplace=True)\n",
        "Test_df2['valence'].fillna(Test_df2['valence'].median(), inplace=True)"
      ],
      "execution_count": 97,
      "outputs": []
    },
    {
      "cell_type": "code",
      "source": [
        "Test_df2.isnull().sum()"
      ],
      "metadata": {
        "colab": {
          "base_uri": "https://localhost:8080/"
        },
        "id": "pB61PHMS5eQU",
        "outputId": "cbdd60fc-1d28-4062-a6c0-e17b8bf59d82"
      },
      "execution_count": 98,
      "outputs": [
        {
          "output_type": "execute_result",
          "data": {
            "text/plain": [
              "instance_id          0\n",
              "popularity           0\n",
              "acousticness         0\n",
              "danceability         0\n",
              "duration_ms          0\n",
              "energy               0\n",
              "instrumentalness     0\n",
              "liveness             0\n",
              "loudness             0\n",
              "voice_gender         0\n",
              "mode                 0\n",
              "speechiness          0\n",
              "tempo                0\n",
              "musician_category    0\n",
              "valence              0\n",
              "key_Scale A Sharp    0\n",
              "key_Scale B          0\n",
              "key_Scale C          0\n",
              "key_Scale C Sharp    0\n",
              "key_Scale D          0\n",
              "key_Scale D Sharp    0\n",
              "key_Scale E          0\n",
              "key_Scale F          0\n",
              "key_Scale F Sharp    0\n",
              "key_Scale G          0\n",
              "key_Scale G Sharp    0\n",
              "dtype: int64"
            ]
          },
          "metadata": {},
          "execution_count": 98
        }
      ]
    },
    {
      "cell_type": "markdown",
      "metadata": {
        "id": "kYcJnohk-7OB"
      },
      "source": [
        "#Train-Test Split of features and target dataset\n"
      ]
    },
    {
      "cell_type": "code",
      "metadata": {
        "id": "Y1NxbYUP_N2v"
      },
      "source": [
        "from sklearn.preprocessing import StandardScaler\n",
        "from keras.models import Sequential\n",
        "from keras.layers import Dense"
      ],
      "execution_count": 99,
      "outputs": []
    },
    {
      "cell_type": "code",
      "metadata": {
        "id": "Ht29KEhnCxQ1"
      },
      "source": [
        "features_list=list(Train_df2.columns)\n",
        "features_list.remove('music_genre')\n"
      ],
      "execution_count": 100,
      "outputs": []
    },
    {
      "cell_type": "code",
      "source": [
        "Train_df2.shape"
      ],
      "metadata": {
        "colab": {
          "base_uri": "https://localhost:8080/"
        },
        "id": "25qqHThd5-9o",
        "outputId": "3a4988ea-d4cd-4c62-bc87-b44e42185cad"
      },
      "execution_count": 101,
      "outputs": [
        {
          "output_type": "execute_result",
          "data": {
            "text/plain": [
              "(15681, 26)"
            ]
          },
          "metadata": {},
          "execution_count": 101
        }
      ]
    },
    {
      "cell_type": "code",
      "metadata": {
        "id": "QsPa46OUkLuy"
      },
      "source": [
        "X_train=Train_df2[features_list][:10977] # 70% of dataset taken for train\n",
        "X_val=Train_df2[features_list][10977:] # 30% of dataset taken for validation\n",
        "y_train=Train_df2['music_genre'][:10977]\n",
        "y_val=Train_df2['music_genre'][10977:]\n",
        "X_test=Test_df2[features_list]\n"
      ],
      "execution_count": 102,
      "outputs": []
    },
    {
      "cell_type": "code",
      "metadata": {
        "colab": {
          "base_uri": "https://localhost:8080/"
        },
        "id": "osOFDLxXJU3P",
        "outputId": "9ede6afd-baee-403b-ef9f-2bd8f5642ea8"
      },
      "source": [
        "print(X_train.shape)\n",
        "print(y_train.shape)\n",
        "print(X_val.shape)\n",
        "print(y_val.shape)"
      ],
      "execution_count": 103,
      "outputs": [
        {
          "output_type": "stream",
          "name": "stdout",
          "text": [
            "(10977, 25)\n",
            "(10977,)\n",
            "(4704, 25)\n",
            "(4704,)\n"
          ]
        }
      ]
    },
    {
      "cell_type": "code",
      "metadata": {
        "colab": {
          "base_uri": "https://localhost:8080/"
        },
        "id": "MSnvKemd_LDq",
        "outputId": "0c2d132f-72be-497f-dede-8a34ac26e1c5"
      },
      "source": [
        "X_test.shape"
      ],
      "execution_count": 104,
      "outputs": [
        {
          "output_type": "execute_result",
          "data": {
            "text/plain": [
              "(3921, 25)"
            ]
          },
          "metadata": {},
          "execution_count": 104
        }
      ]
    },
    {
      "cell_type": "code",
      "metadata": {
        "id": "LPzlROqN_Su7"
      },
      "source": [
        "scale = StandardScaler()\n",
        "X_train = scale.fit_transform(X_train)\n",
        "X_val= scale.fit_transform(X_val)"
      ],
      "execution_count": 105,
      "outputs": []
    },
    {
      "cell_type": "code",
      "metadata": {
        "id": "56xPGEW_C0eI"
      },
      "source": [
        "X_test=scale.fit_transform(X_test)\n"
      ],
      "execution_count": 106,
      "outputs": []
    },
    {
      "cell_type": "markdown",
      "metadata": {
        "id": "8CYoM2gSB_4H"
      },
      "source": [
        "#Build model"
      ]
    },
    {
      "cell_type": "code",
      "metadata": {
        "colab": {
          "base_uri": "https://localhost:8080/"
        },
        "id": "_-kwPcR6frRK",
        "outputId": "3c6c7666-caac-40fa-91e0-1a7b4b63ed20"
      },
      "source": [
        "from sklearn.linear_model import LogisticRegression\n",
        "from sklearn import metrics\n",
        "classifier = LogisticRegression(random_state =0)\n",
        "classifier.fit(X_train, y_train)\n",
        "y_pred = classifier.predict(X_val)\n",
        "\n",
        "print(\"LR model accuracy(in %):\", metrics.accuracy_score(y_val, y_pred)*100)\n",
        "\n",
        "print(\"f1_score\\t:\", 100*(metrics.f1_score(y_val,y_pred,average='macro')))\n",
        "print(\"recall_score\\t:\",100*(metrics.recall_score(y_val,y_pred,average='macro')))\n",
        "print(\"precision_score\\t:\",100*(metrics.precision_score(y_val,y_pred,average='macro')))\n"
      ],
      "execution_count": 113,
      "outputs": [
        {
          "output_type": "stream",
          "name": "stdout",
          "text": [
            "LR model accuracy(in %): 74.21343537414967\n",
            "f1_score\t: 55.469596627494255\n",
            "recall_score\t: 54.22842265557555\n",
            "precision_score\t: 59.66604420298714\n"
          ]
        }
      ]
    },
    {
      "cell_type": "code",
      "source": [
        "y_pred"
      ],
      "metadata": {
        "colab": {
          "base_uri": "https://localhost:8080/"
        },
        "id": "qrIb2FSEA9Ga",
        "outputId": "9670eefe-d5fb-433c-c50c-df8fa3d3594f"
      },
      "execution_count": 108,
      "outputs": [
        {
          "output_type": "execute_result",
          "data": {
            "text/plain": [
              "array([3, 4, 3, ..., 1, 3, 1])"
            ]
          },
          "metadata": {},
          "execution_count": 108
        }
      ]
    },
    {
      "cell_type": "code",
      "metadata": {
        "colab": {
          "base_uri": "https://localhost:8080/",
          "height": 206
        },
        "id": "LpeC6ag3gWfP",
        "outputId": "ec0512ea-bc98-4746-dbda-0b8b21bed090"
      },
      "source": [
        "result=[]\n",
        "for i in range(3921):\n",
        "    id=Test_df2['instance_id'][i]\n",
        "    if y_pred[i]==1:\n",
        "        genre='Jazz'\n",
        "    elif y_pred[i]==2:\n",
        "        genre='Rap'\n",
        "    elif y_pred[i]==3:\n",
        "        genre='Rock'\n",
        "    elif y_pred[i]==4:\n",
        "        genre='Classical'\n",
        "    elif y_pred[i]==5:\n",
        "        genre='Electronic'\n",
        "    elif y_pred[i]==6:\n",
        "        genre='Country'\n",
        "    elif y_pred[i]==7:\n",
        "        genre='Hip-Hop'\n",
        "    result.append([id,genre])\n",
        "\n",
        "result_df=pd.DataFrame()\n",
        "result_df['instance_id']=[i[0] for i in result]\n",
        "result_df['music_genre']=[i[1] for i in result]\n",
        "result_df.to_csv(\"result_LR.csv\",index=False)\n",
        "result_df.head()\n"
      ],
      "execution_count": 109,
      "outputs": [
        {
          "output_type": "execute_result",
          "data": {
            "text/html": [
              "<div>\n",
              "<style scoped>\n",
              "    .dataframe tbody tr th:only-of-type {\n",
              "        vertical-align: middle;\n",
              "    }\n",
              "\n",
              "    .dataframe tbody tr th {\n",
              "        vertical-align: top;\n",
              "    }\n",
              "\n",
              "    .dataframe thead th {\n",
              "        text-align: right;\n",
              "    }\n",
              "</style>\n",
              "<table border=\"1\" class=\"dataframe\">\n",
              "  <thead>\n",
              "    <tr style=\"text-align: right;\">\n",
              "      <th></th>\n",
              "      <th>instance_id</th>\n",
              "      <th>music_genre</th>\n",
              "    </tr>\n",
              "  </thead>\n",
              "  <tbody>\n",
              "    <tr>\n",
              "      <th>0</th>\n",
              "      <td>MSC_70753.0</td>\n",
              "      <td>Rock</td>\n",
              "    </tr>\n",
              "    <tr>\n",
              "      <th>1</th>\n",
              "      <td>MSC_24064.0</td>\n",
              "      <td>Classical</td>\n",
              "    </tr>\n",
              "    <tr>\n",
              "      <th>2</th>\n",
              "      <td>MSC_22731.0</td>\n",
              "      <td>Rock</td>\n",
              "    </tr>\n",
              "    <tr>\n",
              "      <th>3</th>\n",
              "      <td>MSC_32095.0</td>\n",
              "      <td>Jazz</td>\n",
              "    </tr>\n",
              "    <tr>\n",
              "      <th>4</th>\n",
              "      <td>MSC_24198.0</td>\n",
              "      <td>Rap</td>\n",
              "    </tr>\n",
              "  </tbody>\n",
              "</table>\n",
              "</div>"
            ],
            "text/plain": [
              "   instance_id music_genre\n",
              "0  MSC_70753.0        Rock\n",
              "1  MSC_24064.0   Classical\n",
              "2  MSC_22731.0        Rock\n",
              "3  MSC_32095.0        Jazz\n",
              "4  MSC_24198.0         Rap"
            ]
          },
          "metadata": {},
          "execution_count": 109
        }
      ]
    },
    {
      "cell_type": "markdown",
      "metadata": {
        "id": "R6658mIw7Q_z"
      },
      "source": [
        "#SVM"
      ]
    },
    {
      "cell_type": "code",
      "metadata": {
        "colab": {
          "base_uri": "https://localhost:8080/"
        },
        "id": "WMmADHG07P2r",
        "outputId": "0a9556e2-1a4f-46f1-fb2a-5ab1ac7ed767"
      },
      "source": [
        "from sklearn import svm\n",
        "s = svm.SVC(kernel=\"linear\")\n",
        "s.fit(X_train,y_train)\n",
        "y_pred=s.predict(X_val)\n",
        "\n",
        "\n",
        "print(\"SVM model accuracy(in %):\", metrics.accuracy_score(y_val, y_pred)*100)\n"
      ],
      "execution_count": 110,
      "outputs": [
        {
          "output_type": "stream",
          "name": "stdout",
          "text": [
            "SVM model accuracy(in %): 74.6811224489796\n"
          ]
        }
      ]
    },
    {
      "cell_type": "code",
      "metadata": {
        "colab": {
          "base_uri": "https://localhost:8080/"
        },
        "id": "sd9LtltD7bVb",
        "outputId": "18fdfebe-2f0d-40fb-8967-9f66e383a703"
      },
      "source": [
        "print(\"f1_score\\t:\", 100*(metrics.f1_score(y_val,y_pred,average='macro')))\n",
        "print(\"recall_score\\t:\",100*(metrics.recall_score(y_val,y_pred,average='macro')))\n",
        "print(\"precision_score\\t:\",100*(metrics.precision_score(y_val,y_pred,average='macro')))\n"
      ],
      "execution_count": 111,
      "outputs": [
        {
          "output_type": "stream",
          "name": "stdout",
          "text": [
            "f1_score\t: 55.44603697577336\n",
            "recall_score\t: 54.00022302456199\n",
            "precision_score\t: 61.31983996697918\n"
          ]
        }
      ]
    },
    {
      "cell_type": "code",
      "metadata": {
        "colab": {
          "base_uri": "https://localhost:8080/",
          "height": 206
        },
        "id": "_teDCr8P8K8G",
        "outputId": "c5deae69-d816-4b31-9bc7-096bf1b7d0be"
      },
      "source": [
        "result=[]\n",
        "for i in range(3921):\n",
        "    id=Test_df2['instance_id'][i]\n",
        "    if y_pred[i]==1:\n",
        "        genre='Jazz'\n",
        "    elif y_pred[i]==2:\n",
        "        genre='Rap'\n",
        "    elif y_pred[i]==3:\n",
        "        genre='Rock'\n",
        "    elif y_pred[i]==4:\n",
        "        genre='Classical'\n",
        "    elif y_pred[i]==5:\n",
        "        genre='Electronic'\n",
        "    elif y_pred[i]==6:\n",
        "        genre='Country'\n",
        "    elif y_pred[i]==7:\n",
        "        genre='Hip-Hop'\n",
        "    result.append([id,genre])\n",
        "\n",
        "result_df=pd.DataFrame()\n",
        "result_df['instance_id']=[i[0] for i in result]\n",
        "result_df['music_genre']=[i[1] for i in result]\n",
        "result_df.to_csv(\"result_SVM.csv\",index=False)\n",
        "result_df.head()\n"
      ],
      "execution_count": 112,
      "outputs": [
        {
          "output_type": "execute_result",
          "data": {
            "text/html": [
              "<div>\n",
              "<style scoped>\n",
              "    .dataframe tbody tr th:only-of-type {\n",
              "        vertical-align: middle;\n",
              "    }\n",
              "\n",
              "    .dataframe tbody tr th {\n",
              "        vertical-align: top;\n",
              "    }\n",
              "\n",
              "    .dataframe thead th {\n",
              "        text-align: right;\n",
              "    }\n",
              "</style>\n",
              "<table border=\"1\" class=\"dataframe\">\n",
              "  <thead>\n",
              "    <tr style=\"text-align: right;\">\n",
              "      <th></th>\n",
              "      <th>instance_id</th>\n",
              "      <th>music_genre</th>\n",
              "    </tr>\n",
              "  </thead>\n",
              "  <tbody>\n",
              "    <tr>\n",
              "      <th>0</th>\n",
              "      <td>MSC_70753.0</td>\n",
              "      <td>Rock</td>\n",
              "    </tr>\n",
              "    <tr>\n",
              "      <th>1</th>\n",
              "      <td>MSC_24064.0</td>\n",
              "      <td>Classical</td>\n",
              "    </tr>\n",
              "    <tr>\n",
              "      <th>2</th>\n",
              "      <td>MSC_22731.0</td>\n",
              "      <td>Rock</td>\n",
              "    </tr>\n",
              "    <tr>\n",
              "      <th>3</th>\n",
              "      <td>MSC_32095.0</td>\n",
              "      <td>Electronic</td>\n",
              "    </tr>\n",
              "    <tr>\n",
              "      <th>4</th>\n",
              "      <td>MSC_24198.0</td>\n",
              "      <td>Rap</td>\n",
              "    </tr>\n",
              "  </tbody>\n",
              "</table>\n",
              "</div>"
            ],
            "text/plain": [
              "   instance_id music_genre\n",
              "0  MSC_70753.0        Rock\n",
              "1  MSC_24064.0   Classical\n",
              "2  MSC_22731.0        Rock\n",
              "3  MSC_32095.0  Electronic\n",
              "4  MSC_24198.0         Rap"
            ]
          },
          "metadata": {},
          "execution_count": 112
        }
      ]
    }
  ]
}